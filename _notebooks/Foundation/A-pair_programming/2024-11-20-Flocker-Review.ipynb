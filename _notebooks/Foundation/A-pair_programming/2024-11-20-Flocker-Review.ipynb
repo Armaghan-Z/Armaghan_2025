{
 "cells": [
  {
   "cell_type": "raw",
   "metadata": {
    "vscode": {
     "languageId": "raw"
    }
   },
   "source": [
    "---\n",
    "layout: post\n",
    "title: \"Flocker Review\"\n",
    "description: My Flocker review\n",
    "permalink: /flock_review/\n",
    "type: issues\n",
    "comments: true\n",
    "---"
   ]
  },
  {
   "cell_type": "markdown",
   "metadata": {
    "vscode": {
     "languageId": "raw"
    }
   },
   "source": [
    "## Flocker Review\n",
    "\n",
    "- My biggest challenge was trying when I would add the channels and groups they would not appear on the site. I had to add them to the database and create a view to display them. But not only that I figured out that you had to run the main.py on debuggger and then log in using toby, atleast that was what I did for the site to show up locally. Only then did the channels and groups show up on the site after and I was actually able to select Undergound Music and its channels existed."
   ]
  },
  {
   "cell_type": "markdown",
   "metadata": {
    "vscode": {
     "languageId": "sql"
    }
   },
   "source": [
    "<img src=\"/Armaghan_2025/assets/Images/Backend-channel.png\" width=\"400px\" height=\"100px\"/>"
   ]
  },
  {
   "cell_type": "markdown",
   "metadata": {},
   "source": [
    "- Channel fetch for backend:"
   ]
  },
  {
   "cell_type": "code",
   "execution_count": null,
   "metadata": {
    "vscode": {
     "languageId": "javascript"
    }
   },
   "outputs": [],
   "source": [
    " /**\n",
    "     * Fetch channels based on selected group\n",
    "     * User picks from dropdown\n",
    "     */\n",
    "async function fetchChannels(groupName) {\n",
    "    try {\n",
    "        console.log(\"Fetching channels for group:\", groupName);\n",
    "        const response = await fetch(`${pythonURI}/api/channels/filter`, {\n",
    "            ...fetchOptions,\n",
    "            method: 'POST',\n",
    "            headers: { 'Content-Type': 'application/json' },\n",
    "            body: JSON.stringify({ group_name: groupName })\n",
    "        });\n",
    "        if (!response.ok) {\n",
    "            console.error('Failed to fetch channels:', response.statusText);\n",
    "            return;\n",
    "        }\n",
    "        const channels = await response.json();\n",
    "        console.log(\"Fetched channels:\", channels);\n",
    "        const channelSelect = document.getElementById('channel_id');\n",
    "        channelSelect.innerHTML = '<option value=\"\">Select a channel</option>'; // Reset\n",
    "        channels.forEach(channel => {\n",
    "            const option = document.createElement('option');\n",
    "            option.value = channel.id;\n",
    "            option.textContent = channel.name;\n",
    "            channelSelect.appendChild(option);\n",
    "        });\n",
    "    } catch (error) {\n",
    "        console.error('Error fetching channels:', error);\n",
    "    }\n",
    "}"
   ]
  },
  {
   "cell_type": "markdown",
   "metadata": {},
   "source": [
    "- Shows the appropriate channels for the selected group id:"
   ]
  },
  {
   "cell_type": "code",
   "execution_count": null,
   "metadata": {
    "vscode": {
     "languageId": "javascript"
    }
   },
   "outputs": [],
   "source": [
    "/**\n",
    "      * Handle group selection change\n",
    "      * Channel Dropdown refresh to match group_id change\n",
    "      */\n",
    "document.getElementById('group_id').addEventListener('change', function() {\n",
    "    const groupName = this.value;\n",
    "    if (groupName) {\n",
    "        fetchChannels(groupName);\n",
    "    } else {\n",
    "        document.getElementById('channel_id').innerHTML = '<option value=\"\">Select a channel</option>'; // Reset channels\n",
    "    }\n",
    "});"
   ]
  },
  {
   "cell_type": "markdown",
   "metadata": {},
   "source": [
    "- Here is the code that in the backend which defines my group to the share and care group."
   ]
  },
  {
   "cell_type": "code",
   "execution_count": null,
   "metadata": {},
   "outputs": [],
   "source": [
    "# Share and Care Groups\n",
    "        share_and_care = Section.query.filter_by(_name='Share and Care').first()\n",
    "        groups += [\n",
    "            Group(name='DNHS Cafe', section_id=share_and_care.id, moderators=[User.query.get(1)]),\n",
    "            Group(name='Cipher', section_id=share_and_care.id, moderators=[User.query.get(1)]),\n",
    "            Group(name='Chess Champion', section_id=share_and_care.id, moderators=[User.query.get(1)]),\n",
    "            Group(name='Underground Music', section_id=share_and_care.id, moderators=[User.query.get(1)]),\n",
    "            Group(name='The Hungry Games', section_id=share_and_care.id, moderators=[User.query.get(1)]),\n",
    "            Group(name='REVVIT', section_id=share_and_care.id, moderators=[User.query.get(1)])\n",
    "        ]\n"
   ]
  },
  {
   "cell_type": "markdown",
   "metadata": {},
   "source": [
    "- This is then defined by in channel.py where you can see this piece of code that defines the channels for our group which is Under Ground Music."
   ]
  },
  {
   "cell_type": "code",
   "execution_count": null,
   "metadata": {},
   "outputs": [],
   "source": [
    "        #P3 Channels Below\n",
    "         # Share and Care channels below:\n",
    "        DNHSCafe = Group.query.filter_by(_name='Study Room').first()\n",
    "        chess_forum = Group.query.filter_by(_name='Chess Forum').first()\n",
    "        Underground_Music = Group.query.filter_by(_name='Underground Music').first()\n",
    "        share_and_care_channels = [\n",
    "            Channel(name='Math', group_id=DNHSCafe.id),\n",
    "            Channel(name='Chemistry', group_id=DNHSCafe.id),\n",
    "            Channel(name='Biology', group_id=DNHSCafe.id),\n",
    "            Channel(name='English', group_id=DNHSCafe.id),\n",
    "            Channel(name='Coding', group_id=DNHSCafe.id),\n",
    "            Channel(name='History', group_id=DNHSCafe.id),\n",
    "            Channel(name='General', group_id=chess_forum.id),\n",
    "            Channel(name='Chess Tips', group_id=chess_forum.id),\n",
    "            Channel(name='Game Updates', group_id=chess_forum.id),\n",
    "            Channel(name='Artists', group_id=Underground_Music.id),\n",
    "            Channel(name='Songs', group_id=Underground_Music.id),\n",
    "            Channel(name='Genres', group_id=Underground_Music.id),\n",
    "            ]"
   ]
  }
 ],
 "metadata": {
  "kernelspec": {
   "display_name": "venv",
   "language": "python",
   "name": "python3"
  },
  "language_info": {
   "codemirror_mode": {
    "name": "ipython",
    "version": 3
   },
   "file_extension": ".py",
   "mimetype": "text/x-python",
   "name": "python",
   "nbconvert_exporter": "python",
   "pygments_lexer": "ipython3",
   "version": "3.12.7"
  }
 },
 "nbformat": 4,
 "nbformat_minor": 2
}
