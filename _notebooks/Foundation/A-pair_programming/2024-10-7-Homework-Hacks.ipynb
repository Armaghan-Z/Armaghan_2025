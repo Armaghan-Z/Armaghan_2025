{
 "cells": [
  {
   "cell_type": "raw",
   "metadata": {
    "vscode": {
     "languageId": "raw"
    }
   },
   "source": [
    "---\n",
    "layout: post\n",
    "title: \"Team Teach 10/7/20224\"\n",
    "description: Things I have done and attempted\n",
    "permalink: /homework_hacks/\n",
    "type: issues\n",
    "comments: true\n",
    "---"
   ]
  },
  {
   "cell_type": "markdown",
   "metadata": {},
   "source": [
    "# 3.1.2 Hack 1"
   ]
  },
  {
   "cell_type": "code",
   "execution_count": 1,
   "metadata": {},
   "outputs": [
    {
     "name": "stdout",
     "output_type": "stream",
     "text": [
      "Step 1: Value is 42, Type is <class 'int'>\n",
      "Step 2: Value is 42.0, Type is <class 'float'>\n",
      "Step 3: Value is 'forty-two', Type is <class 'str'>\n",
      "Step 4: Value is True, Type is <class 'bool'>\n"
     ]
    }
   ],
   "source": [
    "# Step 1: Initialize the variable as an integer\n",
    "my_var = 42\n",
    "print(f\"Step 1: Value is {my_var}, Type is {type(my_var)}\")\n",
    "\n",
    "# Step 2: Reassign the variable to a float\n",
    "my_var = 42.0\n",
    "print(f\"Step 2: Value is {my_var}, Type is {type(my_var)}\")\n",
    "\n",
    "# Step 3: Reassign the variable to a string\n",
    "my_var = \"forty-two\"\n",
    "print(f\"Step 3: Value is '{my_var}', Type is {type(my_var)}\")\n",
    "\n",
    "# Step 4: Reassign the variable to a boolean\n",
    "my_var = True\n",
    "print(f\"Step 4: Value is {my_var}, Type is {type(my_var)}\")\n"
   ]
  },
  {
   "cell_type": "markdown",
   "metadata": {},
   "source": [
    "## 3.1.4 Hack 1: Naming Variables for User Profile"
   ]
  },
  {
   "cell_type": "code",
   "execution_count": 2,
   "metadata": {},
   "outputs": [
    {
     "name": "stdout",
     "output_type": "stream",
     "text": [
      "Armaghan Zarak, aged 15, can be contacted at Armaghanz@email.com and has a balance of $9470016 in his account.\n"
     ]
    }
   ],
   "source": [
    "# Step 1: Assigning descriptive variable names and values\n",
    "user_full_name = \"Armaghan Zarak\"\n",
    "user_age = 15\n",
    "user_email = \"Armaghanz@email.com\"\n",
    "user_account_balance = 9470016\n",
    "\n",
    "# Step 2: Displaying the user profile information in a formatted sentence\n",
    "print(f\"{user_full_name}, aged {user_age}, can be contacted at {user_email} and has a balance of ${user_account_balance} in his account.\")\n"
   ]
  },
  {
   "cell_type": "markdown",
   "metadata": {},
   "source": [
    "# 3.4.2 Hack 1:"
   ]
  },
  {
   "cell_type": "code",
   "execution_count": 3,
   "metadata": {
    "vscode": {
     "languageId": "javascript"
    }
   },
   "outputs": [
    {
     "data": {
      "application/javascript": "// Function to reverse a string\nfunction reverseString(inputString) {\n    // Use the split, reverse, and join methods to reverse the string\n    return inputString.split('').reverse().join('');\n}\n\n// Example usage\nlet userInput = \"was it a car or a cat I saw?\";\nlet reversedOutput = reverseString(userInput);\n\n// Output the original and reversed strings\nconsole.log(\"Original: \" + userInput);\nconsole.log(\"Reversed: \" + reversedOutput);\n",
      "text/plain": [
       "<IPython.core.display.Javascript object>"
      ]
     },
     "metadata": {},
     "output_type": "display_data"
    }
   ],
   "source": [
    "%%javascript\n",
    "// Function to reverse a string\n",
    "function reverseString(inputString) {\n",
    "    // Use the split, reverse, and join methods to reverse the string\n",
    "    return inputString.split('').reverse().join('');\n",
    "}\n",
    "\n",
    "// Example usage\n",
    "let userInput = \"was it a car or a cat I saw?\";\n",
    "let reversedOutput = reverseString(userInput);\n",
    "\n",
    "// Output the original and reversed strings\n",
    "console.log(\"Original: \" + userInput);\n",
    "console.log(\"Reversed: \" + reversedOutput);"
   ]
  },
  {
   "cell_type": "markdown",
   "metadata": {},
   "source": [
    "# 3.4.4 Hack 1"
   ]
  },
  {
   "cell_type": "code",
   "execution_count": 4,
   "metadata": {
    "vscode": {
     "languageId": "javascript"
    }
   },
   "outputs": [
    {
     "data": {
      "application/javascript": "// String containing all African countries separated by commas\nlet countriesString = \"Algeria, Angola, Benin, Botswana, Burkina Faso, Burundi, Cabo Verde, Cameroon, Central African Republic, Chad, Comoros, Congo (Congo-Brazzaville), Cote d’Ivoire, Djibouti, DR Congo (Congo-Kinshasa), Egypt, Equatorial Guinea, Eritrea, Eswatini, Ethiopia, Gabon, Gambia, Ghana, Guinea, Guinea-Bissau, Kenya, Lesotho, Liberia, Libya, Madagascar, Malawi, Mali, Mauritania, Mauritius, Morocco, Mozambique, Namibia, Niger, Nigeria, Rwanda, Sao Tome and Principe, Senegal, Seychelles, Sierra Leone, Somalia, South Africa, South Sudan, Sudan, Tanzania, Togo, Tunisia, Uganda, Zambia, Zimbabwe\";\n\n// Convert the string into an array \nlet countriesArray = countriesString.split(\", \");\n\n// Output the array to the console \nconsole.log(countriesArray);\n",
      "text/plain": [
       "<IPython.core.display.Javascript object>"
      ]
     },
     "metadata": {},
     "output_type": "display_data"
    }
   ],
   "source": [
    "%%javascript\n",
    "// String containing all African countries separated by commas\n",
    "let countriesString = \"Algeria, Angola, Benin, Botswana, Burkina Faso, Burundi, Cabo Verde, Cameroon, Central African Republic, Chad, Comoros, Congo (Congo-Brazzaville), Cote d’Ivoire, Djibouti, DR Congo (Congo-Kinshasa), Egypt, Equatorial Guinea, Eritrea, Eswatini, Ethiopia, Gabon, Gambia, Ghana, Guinea, Guinea-Bissau, Kenya, Lesotho, Liberia, Libya, Madagascar, Malawi, Mali, Mauritania, Mauritius, Morocco, Mozambique, Namibia, Niger, Nigeria, Rwanda, Sao Tome and Principe, Senegal, Seychelles, Sierra Leone, Somalia, South Africa, South Sudan, Sudan, Tanzania, Togo, Tunisia, Uganda, Zambia, Zimbabwe\";\n",
    "\n",
    "// Convert the string into an array \n",
    "let countriesArray = countriesString.split(\", \");\n",
    "\n",
    "// Output the array to the console \n",
    "console.log(countriesArray);"
   ]
  },
  {
   "cell_type": "markdown",
   "metadata": {},
   "source": [
    "# 3.10 Popcorn hack"
   ]
  },
  {
   "cell_type": "code",
   "execution_count": 5,
   "metadata": {},
   "outputs": [
    {
     "name": "stdout",
     "output_type": "stream",
     "text": [
      "Final list after removals: ['banana', 'date']\n"
     ]
    }
   ],
   "source": [
    "# Popcorn Hack: Working with Python Lists\n",
    "\n",
    "# Step 1: Create a list of your choosing\n",
    "my_list = ['apple', 'banana', 'cherry', 'date', 'elderberry']\n",
    "\n",
    "# Step 2: Remove the last element in the list\n",
    "my_list.pop()  # Removes 'elderberry'\n",
    "\n",
    "# Step 3: Remove the first element in the list\n",
    "my_list.pop(0)  # Removes 'apple'\n",
    "\n",
    "# Step 4: Remove an element at an index that is not the first or last\n",
    "my_list.pop(1)  # Removes 'cherry' (element at index 1)\n",
    "\n",
    "# Step 5: Print the final list\n",
    "print(\"Final list after removals:\", my_list)\n"
   ]
  },
  {
   "cell_type": "code",
   "execution_count": 6,
   "metadata": {
    "vscode": {
     "languageId": "javascript"
    }
   },
   "outputs": [
    {
     "data": {
      "application/javascript": "function goOutside(temperature, isRaining) {\n    if (temperature < 100 && isRaining === true) {\n    return true;\n    } else if (temperature > 32 && isRaining === false) {\n    return true;\n    } else {\n    return false;\n    }\n    }\n",
      "text/plain": [
       "<IPython.core.display.Javascript object>"
      ]
     },
     "metadata": {},
     "output_type": "display_data"
    }
   ],
   "source": [
    "%%javascript\n",
    "function goOutside(temperature, isRaining) {\n",
    "    if (temperature < 100 && isRaining === true) {\n",
    "    return true;\n",
    "    } else if (temperature > 32 && isRaining === false) {\n",
    "    return true;\n",
    "    } else {\n",
    "    return false;\n",
    "    }\n",
    "    }"
   ]
  },
  {
   "cell_type": "markdown",
   "metadata": {},
   "source": [
    "# 3.3 Hack 1"
   ]
  },
  {
   "cell_type": "code",
   "execution_count": 7,
   "metadata": {},
   "outputs": [
    {
     "name": "stdout",
     "output_type": "stream",
     "text": [
      "15\n",
      "5\n",
      "2.0\n",
      "1\n",
      "8\n"
     ]
    }
   ],
   "source": [
    "# Function to add two parameters\n",
    "def add(a, b):\n",
    "    return a + b\n",
    "\n",
    "# Function to subtract two parameters\n",
    "def subtract(a, b):\n",
    "    return a - b\n",
    "\n",
    "# Function to divide two parameters\n",
    "def divide(a, b):\n",
    "    return a / b\n",
    "\n",
    "# Function to find modulus of two parameters\n",
    "def modulus(a, b):\n",
    "    return a % b\n",
    "\n",
    "# Function to raise parameter a to the power of b\n",
    "def power(a, b):\n",
    "    return a ** b\n",
    "\n",
    "# Example usage:\n",
    "print(add(10, 5))       # Output: 15\n",
    "print(subtract(10, 5))  # Output: 5\n",
    "print(divide(10, 5))    # Output: 2.0\n",
    "print(modulus(10, 3))   # Output: 1\n",
    "print(power(2, 3))      # Output: 8"
   ]
  },
  {
   "cell_type": "markdown",
   "metadata": {},
   "source": [
    "# 3.3 Hack 1"
   ]
  },
  {
   "cell_type": "code",
   "execution_count": 8,
   "metadata": {},
   "outputs": [
    {
     "name": "stdout",
     "output_type": "stream",
     "text": [
      "Point on the graph: (3, 17)\n"
     ]
    }
   ],
   "source": [
    "# Function to find y for a given x in f(x) = 5x + 2\n",
    "def find_point(x):\n",
    "    return 5 * x + 2\n",
    "\n",
    "# Example usage:\n",
    "x_value = 3\n",
    "y_value = find_point(x_value)\n",
    "print(f\"Point on the graph: ({x_value}, {y_value})\")  # Output: Point on the graph: (3, 17)"
   ]
  },
  {
   "cell_type": "markdown",
   "metadata": {},
   "source": [
    "# 3.3 Hack 2"
   ]
  },
  {
   "cell_type": "code",
   "execution_count": 9,
   "metadata": {},
   "outputs": [
    {
     "name": "stdout",
     "output_type": "stream",
     "text": [
      "Point on the graph: (3, 17)\n"
     ]
    }
   ],
   "source": [
    "# Function to find y for a given x in f(x) = 5x + 2\n",
    "def find_point(x):\n",
    "    return 5 * x + 2\n",
    "\n",
    "# Example usage:\n",
    "x_value = 3\n",
    "y_value = find_point(x_value)\n",
    "print(f\"Point on the graph: ({x_value}, {y_value})\")  # Output: Point on the graph: (3, 17)"
   ]
  },
  {
   "cell_type": "markdown",
   "metadata": {},
   "source": [
    "# 3.5 Hack 1"
   ]
  },
  {
   "cell_type": "code",
   "execution_count": 10,
   "metadata": {},
   "outputs": [
    {
     "name": "stdout",
     "output_type": "stream",
     "text": [
      "True\n",
      "True\n",
      "True\n"
     ]
    }
   ],
   "source": [
    "def goOutside(temperature, isRaining):\n",
    "    if temperature < 100 and isRaining:\n",
    "        return True\n",
    "    elif temperature > 32 and not isRaining:\n",
    "        return True\n",
    "    else:\n",
    "        return False\n",
    "\n",
    "# Example usage:\n",
    "print(goOutside(95, True))   # Output: True (temperature < 100 and is raining)\n",
    "print(goOutside(35, False))  # Output: True (temperature > 32 and not raining)\n",
    "print(goOutside(101, False)) # Output: False (temperature > 100)"
   ]
  },
  {
   "cell_type": "code",
   "execution_count": 11,
   "metadata": {
    "vscode": {
     "languageId": "javascript"
    }
   },
   "outputs": [
    {
     "data": {
      "application/javascript": "function goOutside(temperature, isRaining) {\n    if (temperature < 100 && isRaining) {\n        return true;\n    } else if (temperature > 32 && !isRaining) {\n        return true;\n    } else {\n        return false;\n    }\n}\n\n// Example usage:\nconsole.log(goOutside(95, true));   // Output: true (temperature < 100 and is raining)\nconsole.log(goOutside(35, false));  // Output: true (temperature > 32 and not raining)\nconsole.log(goOutside(101, false)); // Output: false (temperature > 100)\n",
      "text/plain": [
       "<IPython.core.display.Javascript object>"
      ]
     },
     "metadata": {},
     "output_type": "display_data"
    }
   ],
   "source": [
    "%%javascript\n",
    "function goOutside(temperature, isRaining) {\n",
    "    if (temperature < 100 && isRaining) {\n",
    "        return true;\n",
    "    } else if (temperature > 32 && !isRaining) {\n",
    "        return true;\n",
    "    } else {\n",
    "        return false;\n",
    "    }\n",
    "}\n",
    "\n",
    "// Example usage:\n",
    "console.log(goOutside(95, true));   // Output: true (temperature < 100 and is raining)\n",
    "console.log(goOutside(35, false));  // Output: true (temperature > 32 and not raining)\n",
    "console.log(goOutside(101, false)); // Output: false (temperature > 100)\n"
   ]
  },
  {
   "cell_type": "markdown",
   "metadata": {},
   "source": [
    "# 3.5 Hack 2"
   ]
  },
  {
   "cell_type": "code",
   "execution_count": 12,
   "metadata": {
    "vscode": {
     "languageId": "javascript"
    }
   },
   "outputs": [
    {
     "data": {
      "application/javascript": "// Original expression\nlet stayInside = !(isRaining && isCold);\n\n// Simplified using De Morgan's Law\nlet stayInside = !isRaining || !isCold;\n",
      "text/plain": [
       "<IPython.core.display.Javascript object>"
      ]
     },
     "metadata": {},
     "output_type": "display_data"
    }
   ],
   "source": [
    "%%javascript\n",
    "// Original expression\n",
    "let stayInside = !(isRaining && isCold);\n",
    "\n",
    "// Simplified using De Morgan's Law\n",
    "let stayInside = !isRaining || !isCold;"
   ]
  },
  {
   "cell_type": "code",
   "execution_count": 13,
   "metadata": {
    "vscode": {
     "languageId": "javascript"
    }
   },
   "outputs": [
    {
     "data": {
      "application/javascript": "// Original expression\nlet stayInside = !(isRaining || isCold);\n\n// Simplified using De Morgan's Law\nlet stayInside = !isRaining && !isCold;\n",
      "text/plain": [
       "<IPython.core.display.Javascript object>"
      ]
     },
     "metadata": {},
     "output_type": "display_data"
    }
   ],
   "source": [
    "%%javascript\n",
    "// Original expression\n",
    "let stayInside = !(isRaining || isCold);\n",
    "\n",
    "// Simplified using De Morgan's Law\n",
    "let stayInside = !isRaining && !isCold;"
   ]
  },
  {
   "cell_type": "markdown",
   "metadata": {},
   "source": [
    "# 3.7 Hack 1"
   ]
  },
  {
   "cell_type": "code",
   "execution_count": 14,
   "metadata": {},
   "outputs": [
    {
     "name": "stdout",
     "output_type": "stream",
     "text": [
      "You are not eligible to vote.\n"
     ]
    }
   ],
   "source": [
    "# Voting eligibility function in Python\n",
    "def check_voting_eligibility(age):\n",
    "    if age >= 18:\n",
    "        return \"You are eligible to vote.\"\n",
    "    else:\n",
    "        return \"You are not eligible to vote.\"\n",
    "\n",
    "# Test the function with different ages\n",
    "age = 16\n",
    "print(check_voting_eligibility(age))  # Output will be \"You are not eligible to vote.\""
   ]
  },
  {
   "cell_type": "markdown",
   "metadata": {},
   "source": [
    "# 3.7 Hack 2"
   ]
  },
  {
   "cell_type": "code",
   "execution_count": 15,
   "metadata": {},
   "outputs": [
    {
     "name": "stdout",
     "output_type": "stream",
     "text": [
      "You should eat an apple!\n"
     ]
    }
   ],
   "source": [
    "# Food suggestion function in Python\n",
    "def suggest_food():\n",
    "    # Get user input\n",
    "    health_status = input(\"Are you healthy, unhealthy, or indifferent about food? (healthy/unhealthy/indifferent): \").strip().lower()\n",
    "    \n",
    "    if health_status == \"healthy\":\n",
    "        print(\"You should eat an apple!\")\n",
    "    elif health_status == \"unhealthy\":\n",
    "        print(\"You should eat chocolate!\")\n",
    "    elif health_status == \"indifferent\":\n",
    "        print(\"You don't care about what you eat. How about a coffee?\")\n",
    "    else:\n",
    "        print(\"Invalid input! Please enter 'healthy', 'unhealthy', or 'indifferent'.\")\n",
    "\n",
    "# Call the function\n",
    "suggest_food()\n"
   ]
  },
  {
   "cell_type": "markdown",
   "metadata": {},
   "source": [
    "# 3.2 Popcorn hack 1"
   ]
  },
  {
   "cell_type": "code",
   "execution_count": 16,
   "metadata": {},
   "outputs": [
    {
     "name": "stdout",
     "output_type": "stream",
     "text": [
      "The sum of 4 and 8 is: 12\n"
     ]
    }
   ],
   "source": [
    "def add_two_numbers(num1, num2):\n",
    "    \"\"\"Function to add two integers.\"\"\"\n",
    "    return num1 + num2\n",
    "\n",
    "# Get user input\n",
    "try:\n",
    "    # Prompt the user for two integers\n",
    "    first_number = int(input(\"Enter the first integer: \"))\n",
    "    second_number = int(input(\"Enter the second integer: \"))\n",
    "\n",
    "    # Call the function to add the numbers\n",
    "    result = add_two_numbers(first_number, second_number)\n",
    "\n",
    "    # Print the result\n",
    "    print(f\"The sum of {first_number} and {second_number} is: {result}\")\n",
    "\n",
    "except ValueError:\n",
    "    print(\"Please enter valid integers.\")"
   ]
  },
  {
   "cell_type": "markdown",
   "metadata": {},
   "source": [
    "# 3.2 Popcorn hack 2"
   ]
  },
  {
   "cell_type": "code",
   "execution_count": 17,
   "metadata": {},
   "outputs": [
    {
     "name": "stdout",
     "output_type": "stream",
     "text": [
      "The length of the entered string is: 5\n"
     ]
    }
   ],
   "source": [
    " # Get user input\n",
    "user_string = input(\"Please enter a string: \")\n",
    "\n",
    "# Count the length of the string\n",
    "string_length = len(user_string)\n",
    "\n",
    "# Print the length of the string\n",
    "print(f\"The length of the entered string is: {string_length}\")\n"
   ]
  },
  {
   "cell_type": "markdown",
   "metadata": {},
   "source": [
    "# 3.2 Popcorn hack 3"
   ]
  },
  {
   "cell_type": "code",
   "execution_count": 18,
   "metadata": {
    "vscode": {
     "languageId": "javascript"
    }
   },
   "outputs": [
    {
     "data": {
      "application/javascript": "function isNull(val) {\n    return val === null ? \"No value\" : \"Value exists\";\n}\n\n// Test the function\nconsole.log(isNull(null));  // Output: No value\nconsole.log(isNull(10));    // Output: Value exists\n",
      "text/plain": [
       "<IPython.core.display.Javascript object>"
      ]
     },
     "metadata": {},
     "output_type": "display_data"
    }
   ],
   "source": [
    "%%javascript\n",
    "function isNull(val) {\n",
    "    return val === null ? \"No value\" : \"Value exists\";\n",
    "}\n",
    "\n",
    "// Test the function\n",
    "console.log(isNull(null));  // Output: No value\n",
    "console.log(isNull(10));    // Output: Value exists\n"
   ]
  },
  {
   "cell_type": "markdown",
   "metadata": {},
   "source": [
    "# 3.2 Popcorn hack: create a dictionary, update an item, and add an item"
   ]
  },
  {
   "cell_type": "code",
   "execution_count": 19,
   "metadata": {},
   "outputs": [
    {
     "name": "stdout",
     "output_type": "stream",
     "text": [
      "Original Dictionary: {'name': 'Alice', 'age': 25, 'is_student': False}\n",
      "Updated Age: {'name': 'Alice', 'age': 26, 'is_student': False}\n",
      "Final Dictionary with David added: {'name': 'Alice', 'age': 26, 'is_student': False, 'David': {'name': 'David', 'age': 22, 'is_student': True}}\n"
     ]
    }
   ],
   "source": [
    "# Creating a dictionary with some initial key-value pairs\n",
    "person = {\n",
    "    \"name\": \"Alice\",\n",
    "    \"age\": 25,\n",
    "    \"is_student\": False\n",
    "}\n",
    "\n",
    "# Print the original dictionary\n",
    "print(\"Original Dictionary:\", person)\n",
    "\n",
    "# Updating the 'age' key with a new value\n",
    "person[\"age\"] = 26  # Update Alice's age\n",
    "\n",
    "# Print the updated dictionary\n",
    "print(\"Updated Age:\", person)\n",
    "\n",
    "# Adding a new item to the dictionary\n",
    "person[\"David\"] = {\n",
    "    \"name\": \"David\",\n",
    "    \"age\": 22,\n",
    "    \"is_student\": True\n",
    "}\n",
    "\n",
    "# Print the final dictionary after adding a new entry\n",
    "print(\"Final Dictionary with David added:\", person)\n"
   ]
  },
  {
   "cell_type": "markdown",
   "metadata": {},
   "source": [
    "# 3.10 Popcorn hack 1:"
   ]
  },
  {
   "cell_type": "code",
   "execution_count": 20,
   "metadata": {},
   "outputs": [
    {
     "name": "stdout",
     "output_type": "stream",
     "text": [
      "['Soda', 'Nachos']\n",
      "['Chocolate', 'Nachos', 'Candy', 'Soda', 'Popcorn']\n"
     ]
    }
   ],
   "source": [
    "# Step 1: Create a list of your choosing\n",
    "my_list = [\"Popcorn\", \"Soda\", \"Candy\", \"Nachos\", \"Chocolate\"]\n",
    "# Step 2: Remove the last element from the list\n",
    "my_list.pop()\n",
    "# Step 3: Remove the first element from the list\n",
    "my_list.pop(0)\n",
    "# Step 4: Remove an element from the middle of the list (e.g., index 1)\n",
    "my_list.pop(1)\n",
    "# Step 5: Print the final list\n",
    "print(my_list)\n",
    "#Popcorn Hack 2:\n",
    "# Step 1: Create a list\n",
    "my_list = [\"Popcorn\", \"Soda\", \"Candy\", \"Nachos\", \"Chocolate\"]\n",
    "# Step 2: Reverse the list in place\n",
    "my_list.reverse()\n",
    "# Step 3: Print the reversed list\n",
    "print(my_list)"
   ]
  },
  {
   "cell_type": "markdown",
   "metadata": {},
   "source": [
    "# 3.10 Python Code"
   ]
  },
  {
   "cell_type": "code",
   "execution_count": 21,
   "metadata": {},
   "outputs": [
    {
     "name": "stdout",
     "output_type": "stream",
     "text": [
      "[2, 4, 6]\n"
     ]
    }
   ],
   "source": [
    "#  Step 1: Create a list of numbers\n",
    "numbers = [1, 2, 3, 4, 5, 6]\n",
    "# Step 2: Use list comprehension to filter even numbers\n",
    "even_numbers = [num for num in numbers if num % 2 == 0]\n",
    "# Step 3: Print the even numbers\n",
    "print(even_numbers)  # Output: [2, 4, 6]"
   ]
  },
  {
   "cell_type": "markdown",
   "metadata": {},
   "source": [
    "# 3.10 Javascript Hack"
   ]
  },
  {
   "cell_type": "code",
   "execution_count": 22,
   "metadata": {
    "vscode": {
     "languageId": "javascript"
    }
   },
   "outputs": [
    {
     "data": {
      "application/javascript": "// Create an array of numbers\nconst numbers = [1, 2, 3, 4, 5];\n// Use reduce to sum all the numbers in the array\nconst sum = numbers.reduce((accumulator, current) => accumulator + current, 0);\n// Output the sum\nconsole.log(\"Sum:\", sum);  // Output: 15\n// Create a mapping of integers to their word equivalents\nconst numberWords = {\n    1: \"one\",\n    3: \"three\",\n    4: \"four\",\n    8: \"eight\",\n    9: \"nine\",\n    77: \"seventy-seven\",\n    80: \"eighty\"\n};\n// Create an array of integers to be converted to words\nconst integers = [1, 3, 8, 9, 77, 80];\n// Convert the integers to words\nlet words = integers.map(num => numberWords[num]);\nconsole.log(\"Numbers as words:\", words);  // Output: [\"one\", \"three\", \"eight\", \"nine\", \"seventy-seven\", \"eighty\"]\n// Sort the words alphabetically\nwords.sort();\nconsole.log(\"Alphabetically sorted words:\", words);  // Output: [\"eight\", \"eighty\", \"nine\", \"one\", \"seventy-seven\", \"three\"]\n",
      "text/plain": [
       "<IPython.core.display.Javascript object>"
      ]
     },
     "metadata": {},
     "output_type": "display_data"
    }
   ],
   "source": [
    "%%javascript\n",
    "// Create an array of numbers\n",
    "const numbers = [1, 2, 3, 4, 5];\n",
    "// Use reduce to sum all the numbers in the array\n",
    "const sum = numbers.reduce((accumulator, current) => accumulator + current, 0);\n",
    "// Output the sum\n",
    "console.log(\"Sum:\", sum);  // Output: 15\n",
    "// Create a mapping of integers to their word equivalents\n",
    "const numberWords = {\n",
    "    1: \"one\",\n",
    "    3: \"three\",\n",
    "    4: \"four\",\n",
    "    8: \"eight\",\n",
    "    9: \"nine\",\n",
    "    77: \"seventy-seven\",\n",
    "    80: \"eighty\"\n",
    "};\n",
    "// Create an array of integers to be converted to words\n",
    "const integers = [1, 3, 8, 9, 77, 80];\n",
    "// Convert the integers to words\n",
    "let words = integers.map(num => numberWords[num]);\n",
    "console.log(\"Numbers as words:\", words);  // Output: [\"one\", \"three\", \"eight\", \"nine\", \"seventy-seven\", \"eighty\"]\n",
    "// Sort the words alphabetically\n",
    "words.sort();\n",
    "console.log(\"Alphabetically sorted words:\", words);  // Output: [\"eight\", \"eighty\", \"nine\", \"one\", \"seventy-seven\", \"three\"]"
   ]
  }
 ],
 "metadata": {
  "kernelspec": {
   "display_name": "Python 3 (ipykernel)",
   "language": "python",
   "name": "python3"
  },
  "language_info": {
   "codemirror_mode": {
    "name": "ipython",
    "version": 3
   },
   "file_extension": ".py",
   "mimetype": "text/x-python",
   "name": "python",
   "nbconvert_exporter": "python",
   "pygments_lexer": "ipython3",
   "version": "3.12.7"
  },
  "orig_nbformat": 4
 },
 "nbformat": 4,
 "nbformat_minor": 2
}
