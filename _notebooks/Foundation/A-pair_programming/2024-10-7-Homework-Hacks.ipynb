{
 "cells": [
  {
   "cell_type": "raw",
   "metadata": {
    "vscode": {
     "languageId": "raw"
    }
   },
   "source": [
    "---\n",
    "layout: post\n",
    "title: \"Team Teach 10/7/20224\"\n",
    "description: Things I have done and attempted\n",
    "permalink: /homework_hacks/\n",
    "type: issues\n",
    "comments: true\n",
    "---"
   ]
  },
  {
   "cell_type": "markdown",
   "metadata": {},
   "source": [
    "# 3.1.2 Hack 1"
   ]
  },
  {
   "cell_type": "code",
   "execution_count": 51,
   "metadata": {},
   "outputs": [
    {
     "name": "stdout",
     "output_type": "stream",
     "text": [
      "Step 1: Value is 42, Type is <class 'int'>\n",
      "Step 2: Value is 42.0, Type is <class 'float'>\n",
      "Step 3: Value is 'forty-two', Type is <class 'str'>\n",
      "Step 4: Value is True, Type is <class 'bool'>\n"
     ]
    }
   ],
   "source": [
    "# Step 1: Initialize the variable as an integer\n",
    "my_var = 42\n",
    "print(f\"Step 1: Value is {my_var}, Type is {type(my_var)}\")\n",
    "\n",
    "# Step 2: Reassign the variable to a float\n",
    "my_var = 42.0\n",
    "print(f\"Step 2: Value is {my_var}, Type is {type(my_var)}\")\n",
    "\n",
    "# Step 3: Reassign the variable to a string\n",
    "my_var = \"forty-two\"\n",
    "print(f\"Step 3: Value is '{my_var}', Type is {type(my_var)}\")\n",
    "\n",
    "# Step 4: Reassign the variable to a boolean\n",
    "my_var = True\n",
    "print(f\"Step 4: Value is {my_var}, Type is {type(my_var)}\")\n"
   ]
  },
  {
   "cell_type": "markdown",
   "metadata": {},
   "source": [
    "## 3.1.4 Hack 1: Naming Variables for User Profile"
   ]
  },
  {
   "cell_type": "code",
   "execution_count": 52,
   "metadata": {},
   "outputs": [
    {
     "name": "stdout",
     "output_type": "stream",
     "text": [
      "Armaghan Zarak, aged 15, can be contacted at Armaghanz@email.com and has a balance of $9470016 in his account.\n"
     ]
    }
   ],
   "source": [
    "# Step 1: Assigning descriptive variable names and values\n",
    "user_full_name = \"Armaghan Zarak\"\n",
    "user_age = 15\n",
    "user_email = \"Armaghanz@email.com\"\n",
    "user_account_balance = 9470016\n",
    "\n",
    "# Step 2: Displaying the user profile information in a formatted sentence\n",
    "print(f\"{user_full_name}, aged {user_age}, can be contacted at {user_email} and has a balance of ${user_account_balance} in his account.\")\n"
   ]
  },
  {
   "cell_type": "markdown",
   "metadata": {},
   "source": [
    "# 3.4.2 Hack 1:"
   ]
  },
  {
   "cell_type": "code",
   "execution_count": 53,
   "metadata": {
    "vscode": {
     "languageId": "javascript"
    }
   },
   "outputs": [
    {
     "data": {
      "application/javascript": "// Function to reverse a string\nfunction reverseString(inputString) {\n    // Use the split, reverse, and join methods to reverse the string\n    return inputString.split('').reverse().join('');\n}\n\n// Example usage\nlet userInput = \"was it a car or a cat I saw?\";\nlet reversedOutput = reverseString(userInput);\n\n// Output the original and reversed strings\nconsole.log(\"Original: \" + userInput);\nconsole.log(\"Reversed: \" + reversedOutput);\n",
      "text/plain": [
       "<IPython.core.display.Javascript object>"
      ]
     },
     "metadata": {},
     "output_type": "display_data"
    }
   ],
   "source": [
    "%%javascript\n",
    "// Function to reverse a string\n",
    "function reverseString(inputString) {\n",
    "    // Use the split, reverse, and join methods to reverse the string\n",
    "    return inputString.split('').reverse().join('');\n",
    "}\n",
    "\n",
    "// Example usage\n",
    "let userInput = \"was it a car or a cat I saw?\";\n",
    "let reversedOutput = reverseString(userInput);\n",
    "\n",
    "// Output the original and reversed strings\n",
    "console.log(\"Original: \" + userInput);\n",
    "console.log(\"Reversed: \" + reversedOutput);"
   ]
  },
  {
   "cell_type": "markdown",
   "metadata": {},
   "source": [
    "# 3.4.4 Hack 1"
   ]
  },
  {
   "cell_type": "code",
   "execution_count": 54,
   "metadata": {
    "vscode": {
     "languageId": "javascript"
    }
   },
   "outputs": [
    {
     "data": {
      "application/javascript": "// String containing all African countries separated by commas\nlet countriesString = \"Algeria, Angola, Benin, Botswana, Burkina Faso, Burundi, Cabo Verde, Cameroon, Central African Republic, Chad, Comoros, Congo (Congo-Brazzaville), Cote d’Ivoire, Djibouti, DR Congo (Congo-Kinshasa), Egypt, Equatorial Guinea, Eritrea, Eswatini, Ethiopia, Gabon, Gambia, Ghana, Guinea, Guinea-Bissau, Kenya, Lesotho, Liberia, Libya, Madagascar, Malawi, Mali, Mauritania, Mauritius, Morocco, Mozambique, Namibia, Niger, Nigeria, Rwanda, Sao Tome and Principe, Senegal, Seychelles, Sierra Leone, Somalia, South Africa, South Sudan, Sudan, Tanzania, Togo, Tunisia, Uganda, Zambia, Zimbabwe\";\n\n// Convert the string into an array \nlet countriesArray = countriesString.split(\", \");\n\n// Output the array to the console \nconsole.log(countriesArray);\n",
      "text/plain": [
       "<IPython.core.display.Javascript object>"
      ]
     },
     "metadata": {},
     "output_type": "display_data"
    }
   ],
   "source": [
    "%%javascript\n",
    "// String containing all African countries separated by commas\n",
    "let countriesString = \"Algeria, Angola, Benin, Botswana, Burkina Faso, Burundi, Cabo Verde, Cameroon, Central African Republic, Chad, Comoros, Congo (Congo-Brazzaville), Cote d’Ivoire, Djibouti, DR Congo (Congo-Kinshasa), Egypt, Equatorial Guinea, Eritrea, Eswatini, Ethiopia, Gabon, Gambia, Ghana, Guinea, Guinea-Bissau, Kenya, Lesotho, Liberia, Libya, Madagascar, Malawi, Mali, Mauritania, Mauritius, Morocco, Mozambique, Namibia, Niger, Nigeria, Rwanda, Sao Tome and Principe, Senegal, Seychelles, Sierra Leone, Somalia, South Africa, South Sudan, Sudan, Tanzania, Togo, Tunisia, Uganda, Zambia, Zimbabwe\";\n",
    "\n",
    "// Convert the string into an array \n",
    "let countriesArray = countriesString.split(\", \");\n",
    "\n",
    "// Output the array to the console \n",
    "console.log(countriesArray);"
   ]
  },
  {
   "cell_type": "markdown",
   "metadata": {},
   "source": [
    "# 3.10 Popcorn hack"
   ]
  },
  {
   "cell_type": "code",
   "execution_count": 55,
   "metadata": {},
   "outputs": [
    {
     "name": "stdout",
     "output_type": "stream",
     "text": [
      "Final list after removals: ['banana', 'date']\n"
     ]
    }
   ],
   "source": [
    "# Popcorn Hack: Working with Python Lists\n",
    "\n",
    "# Step 1: Create a list of your choosing\n",
    "my_list = ['apple', 'banana', 'cherry', 'date', 'elderberry']\n",
    "\n",
    "# Step 2: Remove the last element in the list\n",
    "my_list.pop()  # Removes 'elderberry'\n",
    "\n",
    "# Step 3: Remove the first element in the list\n",
    "my_list.pop(0)  # Removes 'apple'\n",
    "\n",
    "# Step 4: Remove an element at an index that is not the first or last\n",
    "my_list.pop(1)  # Removes 'cherry' (element at index 1)\n",
    "\n",
    "# Step 5: Print the final list\n",
    "print(\"Final list after removals:\", my_list)\n"
   ]
  },
  {
   "cell_type": "code",
   "execution_count": 56,
   "metadata": {
    "vscode": {
     "languageId": "javascript"
    }
   },
   "outputs": [
    {
     "data": {
      "application/javascript": "function goOutside(temperature, isRaining) {\n    if (temperature < 100 && isRaining === true) {\n    return true;\n    } else if (temperature > 32 && isRaining === false) {\n    return true;\n    } else {\n    return false;\n    }\n    }\n",
      "text/plain": [
       "<IPython.core.display.Javascript object>"
      ]
     },
     "metadata": {},
     "output_type": "display_data"
    }
   ],
   "source": [
    "%%javascript\n",
    "function goOutside(temperature, isRaining) {\n",
    "    if (temperature < 100 && isRaining === true) {\n",
    "    return true;\n",
    "    } else if (temperature > 32 && isRaining === false) {\n",
    "    return true;\n",
    "    } else {\n",
    "    return false;\n",
    "    }\n",
    "    }"
   ]
  },
  {
   "cell_type": "markdown",
   "metadata": {},
   "source": [
    "# 3.3 Hack 1"
   ]
  },
  {
   "cell_type": "code",
   "execution_count": 57,
   "metadata": {},
   "outputs": [
    {
     "name": "stdout",
     "output_type": "stream",
     "text": [
      "15\n",
      "5\n",
      "2.0\n",
      "1\n",
      "8\n"
     ]
    }
   ],
   "source": [
    "# Function to add two parameters\n",
    "def add(a, b):\n",
    "    return a + b\n",
    "\n",
    "# Function to subtract two parameters\n",
    "def subtract(a, b):\n",
    "    return a - b\n",
    "\n",
    "# Function to divide two parameters\n",
    "def divide(a, b):\n",
    "    return a / b\n",
    "\n",
    "# Function to find modulus of two parameters\n",
    "def modulus(a, b):\n",
    "    return a % b\n",
    "\n",
    "# Function to raise parameter a to the power of b\n",
    "def power(a, b):\n",
    "    return a ** b\n",
    "\n",
    "# Example usage:\n",
    "print(add(10, 5))       # Output: 15\n",
    "print(subtract(10, 5))  # Output: 5\n",
    "print(divide(10, 5))    # Output: 2.0\n",
    "print(modulus(10, 3))   # Output: 1\n",
    "print(power(2, 3))      # Output: 8"
   ]
  },
  {
   "cell_type": "markdown",
   "metadata": {},
   "source": [
    "# 3.3 Hack 1"
   ]
  },
  {
   "cell_type": "code",
   "execution_count": 58,
   "metadata": {},
   "outputs": [
    {
     "name": "stdout",
     "output_type": "stream",
     "text": [
      "Point on the graph: (3, 17)\n"
     ]
    }
   ],
   "source": [
    "# Function to find y for a given x in f(x) = 5x + 2\n",
    "def find_point(x):\n",
    "    return 5 * x + 2\n",
    "\n",
    "# Example usage:\n",
    "x_value = 3\n",
    "y_value = find_point(x_value)\n",
    "print(f\"Point on the graph: ({x_value}, {y_value})\")  # Output: Point on the graph: (3, 17)"
   ]
  },
  {
   "cell_type": "markdown",
   "metadata": {},
   "source": [
    "# 3.3 Hack 2"
   ]
  },
  {
   "cell_type": "code",
   "execution_count": 59,
   "metadata": {},
   "outputs": [
    {
     "name": "stdout",
     "output_type": "stream",
     "text": [
      "Point on the graph: (3, 17)\n"
     ]
    }
   ],
   "source": [
    "# Function to find y for a given x in f(x) = 5x + 2\n",
    "def find_point(x):\n",
    "    return 5 * x + 2\n",
    "\n",
    "# Example usage:\n",
    "x_value = 3\n",
    "y_value = find_point(x_value)\n",
    "print(f\"Point on the graph: ({x_value}, {y_value})\")  # Output: Point on the graph: (3, 17)"
   ]
  },
  {
   "cell_type": "markdown",
   "metadata": {},
   "source": [
    "# 3.5 Hack 1"
   ]
  },
  {
   "cell_type": "code",
   "execution_count": 60,
   "metadata": {},
   "outputs": [
    {
     "name": "stdout",
     "output_type": "stream",
     "text": [
      "True\n",
      "True\n",
      "True\n"
     ]
    }
   ],
   "source": [
    "def goOutside(temperature, isRaining):\n",
    "    if temperature < 100 and isRaining:\n",
    "        return True\n",
    "    elif temperature > 32 and not isRaining:\n",
    "        return True\n",
    "    else:\n",
    "        return False\n",
    "\n",
    "# Example usage:\n",
    "print(goOutside(95, True))   # Output: True (temperature < 100 and is raining)\n",
    "print(goOutside(35, False))  # Output: True (temperature > 32 and not raining)\n",
    "print(goOutside(101, False)) # Output: False (temperature > 100)"
   ]
  },
  {
   "cell_type": "code",
   "execution_count": 61,
   "metadata": {
    "vscode": {
     "languageId": "javascript"
    }
   },
   "outputs": [
    {
     "data": {
      "application/javascript": "function goOutside(temperature, isRaining) {\n    if (temperature < 100 && isRaining) {\n        return true;\n    } else if (temperature > 32 && !isRaining) {\n        return true;\n    } else {\n        return false;\n    }\n}\n\n// Example usage:\nconsole.log(goOutside(95, true));   // Output: true (temperature < 100 and is raining)\nconsole.log(goOutside(35, false));  // Output: true (temperature > 32 and not raining)\nconsole.log(goOutside(101, false)); // Output: false (temperature > 100)\n",
      "text/plain": [
       "<IPython.core.display.Javascript object>"
      ]
     },
     "metadata": {},
     "output_type": "display_data"
    }
   ],
   "source": [
    "%%javascript\n",
    "function goOutside(temperature, isRaining) {\n",
    "    if (temperature < 100 && isRaining) {\n",
    "        return true;\n",
    "    } else if (temperature > 32 && !isRaining) {\n",
    "        return true;\n",
    "    } else {\n",
    "        return false;\n",
    "    }\n",
    "}\n",
    "\n",
    "// Example usage:\n",
    "console.log(goOutside(95, true));   // Output: true (temperature < 100 and is raining)\n",
    "console.log(goOutside(35, false));  // Output: true (temperature > 32 and not raining)\n",
    "console.log(goOutside(101, false)); // Output: false (temperature > 100)\n"
   ]
  },
  {
   "cell_type": "markdown",
   "metadata": {},
   "source": [
    "# 3.5 Hack 2"
   ]
  },
  {
   "cell_type": "code",
   "execution_count": 62,
   "metadata": {
    "vscode": {
     "languageId": "javascript"
    }
   },
   "outputs": [
    {
     "data": {
      "application/javascript": "// Original expression\nlet stayInside = !(isRaining && isCold);\n\n// Simplified using De Morgan's Law\nlet stayInside = !isRaining || !isCold;\n",
      "text/plain": [
       "<IPython.core.display.Javascript object>"
      ]
     },
     "metadata": {},
     "output_type": "display_data"
    }
   ],
   "source": [
    "%%javascript\n",
    "// Original expression\n",
    "let stayInside = !(isRaining && isCold);\n",
    "\n",
    "// Simplified using De Morgan's Law\n",
    "let stayInside = !isRaining || !isCold;"
   ]
  },
  {
   "cell_type": "code",
   "execution_count": 63,
   "metadata": {
    "vscode": {
     "languageId": "javascript"
    }
   },
   "outputs": [
    {
     "data": {
      "application/javascript": "// Original expression\nlet stayInside = !(isRaining || isCold);\n\n// Simplified using De Morgan's Law\nlet stayInside = !isRaining && !isCold;\n",
      "text/plain": [
       "<IPython.core.display.Javascript object>"
      ]
     },
     "metadata": {},
     "output_type": "display_data"
    }
   ],
   "source": [
    "%%javascript\n",
    "// Original expression\n",
    "let stayInside = !(isRaining || isCold);\n",
    "\n",
    "// Simplified using De Morgan's Law\n",
    "let stayInside = !isRaining && !isCold;"
   ]
  },
  {
   "cell_type": "markdown",
   "metadata": {},
   "source": [
    "# 3.6 Hack 1"
   ]
  },
  {
   "cell_type": "code",
   "execution_count": 64,
   "metadata": {
    "vscode": {
     "languageId": "javascript"
    }
   },
   "outputs": [
    {
     "data": {
      "application/javascript": "function getGrade() {\n    let score = prompt(\"Enter the score (0-100):\");  // Prompts the user to enter a score\n    score = Number(score);  // Converts the input to a number\n  \n    // Conditional checks to determine the grade\n    if (score >= 90) {\n        console.log(\"A\");   // Prints \"A\" for scores 90 or higher\n    } else if (score >= 80) {\n        console.log(\"B\");   // Prints \"B\" for scores 80-89\n    } else if (score >= 70) {\n        console.log(\"C\");   // Prints \"C\" for scores 70-79\n    } else {\n        console.log(\"F\");   // Prints \"F\" for scores below 70\n    }\n}\n  \n// Call the function to get a grade\ngetGrade();\n",
      "text/plain": [
       "<IPython.core.display.Javascript object>"
      ]
     },
     "metadata": {},
     "output_type": "display_data"
    }
   ],
   "source": [
    "%%javascript\n",
    "function getGrade() {\n",
    "    let score = prompt(\"Enter the score (0-100):\");  // Prompts the user to enter a score\n",
    "    score = Number(score);  // Converts the input to a number\n",
    "  \n",
    "    // Conditional checks to determine the grade\n",
    "    if (score >= 90) {\n",
    "        console.log(\"A\");   // Prints \"A\" for scores 90 or higher\n",
    "    } else if (score >= 80) {\n",
    "        console.log(\"B\");   // Prints \"B\" for scores 80-89\n",
    "    } else if (score >= 70) {\n",
    "        console.log(\"C\");   // Prints \"C\" for scores 70-79\n",
    "    } else {\n",
    "        console.log(\"F\");   // Prints \"F\" for scores below 70\n",
    "    }\n",
    "}\n",
    "  \n",
    "// Call the function to get a grade\n",
    "getGrade();\n"
   ]
  }
 ],
 "metadata": {
  "kernelspec": {
   "display_name": "Python 3 (ipykernel)",
   "language": "python",
   "name": "python3"
  },
  "language_info": {
   "codemirror_mode": {
    "name": "ipython",
    "version": 3
   },
   "file_extension": ".py",
   "mimetype": "text/x-python",
   "name": "python",
   "nbconvert_exporter": "python",
   "pygments_lexer": "ipython3",
   "version": "3.12.7"
  },
  "orig_nbformat": 4
 },
 "nbformat": 4,
 "nbformat_minor": 2
}
